{
 "cells": [
  {
   "cell_type": "markdown",
   "metadata": {},
   "source": [
    "### Usage\n",
    "\n",
    "The **BitTorrent client** can be used in two ways: as a command-line script or imported as a package into other Python code.\n",
    "\n",
    "#### Running as a Script\n",
    "When run as a script, you can pass command-line arguments. The entry point is `__main__.py`. The `destination` argument is optional and defaults to the current directory from which the client is executed.\n",
    "\n",
    "```python\n",
    "python -m torrentula --torr <your-torrent.torrent> --dest <download-directory>\n",
    "```\n",
    "\n",
    "- --torr <your-torrent.torrent>: The path to the torrent file.\n",
    "- --dest <download-directory>: The directory where the files will be downloaded. If not specified, it defaults to the current directory.\n",
    "\n",
    "#### Importing as a Package\n",
    "\n",
    "You can also import the package programmatically into other Python code. In this case, __main__.py is ignored, and __init__.py is invoked, exposing the functions imported inside __init__.py to the scope of your code.\n",
    "\n",
    "```python\n",
    "import torrentula\n",
    "torrentula.download_torrent(<your-torrent.torrent>, <download-directory>)\n",
    "```\n",
    "This method allows for integration of the torrent client directly within Python applications."
   ]
  },
  {
   "cell_type": "markdown",
   "metadata": {},
   "source": [
    "### Development\n",
    "\n",
    "#### Running Tests\n",
    "The library tests can be automatically discovered and ran by the unittests library. Example torrents for testing are in the fixtures folder.\n",
    "```python\n",
    "python -m unittest discover -s tests\n",
    "```"
   ]
  },
  {
   "cell_type": "markdown",
   "metadata": {},
   "source": [
    "### Examples"
   ]
  },
  {
   "cell_type": "code",
   "execution_count": null,
   "metadata": {},
   "outputs": [],
   "source": [
    "python -m torrentula --torr tests/fixtures/debian-mac.torrent"
   ]
  }
 ],
 "metadata": {
  "kernelspec": {
   "display_name": "final-project",
   "language": "python",
   "name": "python3"
  },
  "language_info": {
   "codemirror_mode": {
    "name": "ipython",
    "version": 3
   },
   "file_extension": ".py",
   "mimetype": "text/x-python",
   "name": "python",
   "nbconvert_exporter": "python",
   "pygments_lexer": "ipython3",
   "version": "3.13.0"
  }
 },
 "nbformat": 4,
 "nbformat_minor": 2
}
