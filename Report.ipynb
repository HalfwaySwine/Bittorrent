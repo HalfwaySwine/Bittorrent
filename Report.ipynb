{
 "cells": [
  {
   "cell_type": "markdown",
   "metadata": {},
   "source": [
    "### Usage\n",
    "\n",
    "The **BitTorrent client** can be used in two ways: as a command-line script or imported as a package into other Python code.\n",
    "\n",
    "#### Running as a Script\n",
    "When run as a script, you can pass command-line arguments. The entry point is `__main__.py`. The `destination` argument is optional and defaults to the current directory from which the client is executed.\n",
    "\n",
    "```python\n",
    "python -m torrentula --torr <your-torrent.torrent> --dest <download-directory>\n",
    "```\n",
    "\n",
    "- --torr <your-torrent.torrent>: The path to the torrent file.\n",
    "- --dest <download-directory>: The directory where the files will be downloaded. If not specified, it defaults to the current directory.\n",
    "\n",
    "#### Importing as a Package\n",
    "\n",
    "You can also import the package programmatically into other Python code. In this case, __main__.py is ignored, and __init__.py is invoked, exposing the functions imported inside __init__.py to the scope of your code.\n",
    "\n",
    "```python\n",
    "import torrentula\n",
    "torrentula.download_torrent(<your-torrent.torrent>, <download-directory>)\n",
    "```\n",
    "This method allows for integration of the torrent client directly within Python applications."
   ]
  },
  {
   "cell_type": "markdown",
   "metadata": {},
   "source": [
    "### Development\n",
    "\n",
    "#### Running Tests\n",
    "The library tests can be automatically discovered and ran by the unittests library. Example torrents for testing are in the fixtures folder.\n",
    "```python\n",
    "python -m unittest discover -s tests\n",
    "```"
   ]
  },
  {
   "cell_type": "markdown",
   "metadata": {},
   "source": [
    "### Examples"
   ]
  },
  {
   "cell_type": "code",
   "execution_count": null,
   "metadata": {},
   "outputs": [],
   "source": [
    "python -m torrentula --torr tests/fixtures/debian-mac.torrent"
   ]
  },
  {
   "cell_type": "markdown",
   "metadata": {},
   "source": [
    "## Experiments\n",
    "- Run simultaneously to control the conditions.\n",
    "- Run 3x and take the average.\n",
    "File: FreeBSD-14.2-RELEASE-i386-bootonly.iso (362.3 MB)\n",
    "Transmission: 1 min, 18 sec\n",
    "Torrentula: \n"
   ]
  },
  {
   "cell_type": "markdown",
   "metadata": {},
   "source": [
    "## Features\n",
    "- Scrape from Tracker\n",
    "- Upload/Download Speeds\n",
    "- Timer\n",
    "- Progress Output\n",
    "- Pausing/Stopping/Crashing and Restarting\n",
    "- Rarest First\n",
    "- Extensive terminal display showing download status, details on peer connections, and a visualization of segmented piece progress.\n",
    "  - Resizes on terminal size change, return to typical console display with 'q'.\n",
    "- Command line arguments for extended features:\n",
    "  - '--clean' to remove download artifacts related to the requested torrent download\n",
    "  - '--dest' to specify a destination directory"
   ]
  },
  {
   "cell_type": "code",
   "execution_count": null,
   "metadata": {},
   "outputs": [],
   "source": [
    "# Checking correctness of application\n",
    "hexdump -C torrent_download > check\n",
    "hexdump -C download_reference > expect\n",
    "diff check expect"
   ]
  },
  {
   "cell_type": "code",
   "execution_count": null,
   "metadata": {},
   "outputs": [],
   "source": [
    "python -m torrentula --torr tests/fixtures/crimeandpunishment.torrent"
   ]
  },
  {
   "cell_type": "markdown",
   "metadata": {},
   "source": [
    "python -m torrentula --torr tests/fixtures/FreeBSD.torrent"
   ]
  }
 ],
 "metadata": {
  "kernelspec": {
   "display_name": "final-project",
   "language": "python",
   "name": "python3"
  },
  "language_info": {
   "codemirror_mode": {
    "name": "ipython",
    "version": 3
   },
   "file_extension": ".py",
   "mimetype": "text/x-python",
   "name": "python",
   "nbconvert_exporter": "python",
   "pygments_lexer": "ipython3",
   "version": "3.13.0"
  }
 },
 "nbformat": 4,
 "nbformat_minor": 2
}
